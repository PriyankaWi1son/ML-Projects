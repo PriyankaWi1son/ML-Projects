{
  "nbformat": 4,
  "nbformat_minor": 0,
  "metadata": {
    "colab": {
      "provenance": []
    },
    "kernelspec": {
      "name": "python3",
      "display_name": "Python 3"
    }
  },
  "cells": [
    {
      "cell_type": "markdown",
      "source": [
        "Finding whether the given job posting is real based on job title and requirements"
      ],
      "metadata": {
        "id": "vqTvYvYmoDGW"
      }
    },
    {
      "cell_type": "markdown",
      "source": [
        "\n",
        "\n",
        "\n",
        "1.   0  -----> Real\n",
        "2.   1  -----> Fake\n",
        "\n",
        "\n"
      ],
      "metadata": {
        "id": "RFUqzzqgoP4p"
      }
    },
    {
      "cell_type": "code",
      "metadata": {
        "id": "943tI5m1Asyt"
      },
      "source": [
        "import pandas as pd\n",
        "import numpy as np\n",
        "import re\n",
        "import matplotlib.pyplot as plt\n",
        "from sklearn.feature_extraction.text import TfidfVectorizer\n",
        "from nltk.corpus import stopwords\n",
        "from nltk.stem.porter import PorterStemmer\n",
        "from sklearn.model_selection import train_test_split\n",
        "from sklearn.linear_model import LogisticRegression\n",
        "from sklearn.metrics import accuracy_score"
      ],
      "execution_count": null,
      "outputs": []
    },
    {
      "cell_type": "code",
      "metadata": {
        "id": "vR15-SZQBHpm"
      },
      "source": [
        "job_data = pd.read_csv('/content/fake_job_postings.csv')"
      ],
      "execution_count": null,
      "outputs": []
    },
    {
      "cell_type": "code",
      "source": [
        "job_data.head()"
      ],
      "metadata": {
        "colab": {
          "base_uri": "https://localhost:8080/",
          "height": 600
        },
        "id": "0t8GoDfGiWRA",
        "outputId": "4909e355-d092-4f47-e7fd-337c01b5bfd3"
      },
      "execution_count": null,
      "outputs": [
        {
          "output_type": "execute_result",
          "data": {
            "text/plain": [
              "   job_id                                      title            location  \\\n",
              "0       1                           Marketing Intern    US, NY, New York   \n",
              "1       2  Customer Service - Cloud Video Production      NZ, , Auckland   \n",
              "2       3    Commissioning Machinery Assistant (CMA)       US, IA, Wever   \n",
              "3       4          Account Executive - Washington DC  US, DC, Washington   \n",
              "4       5                        Bill Review Manager  US, FL, Fort Worth   \n",
              "\n",
              "  department salary_range                                    company_profile  \\\n",
              "0  Marketing          NaN  We're Food52, and we've created a groundbreaki...   \n",
              "1    Success          NaN  90 Seconds, the worlds Cloud Video Production ...   \n",
              "2        NaN          NaN  Valor Services provides Workforce Solutions th...   \n",
              "3      Sales          NaN  Our passion for improving quality of life thro...   \n",
              "4        NaN          NaN  SpotSource Solutions LLC is a Global Human Cap...   \n",
              "\n",
              "                                         description  \\\n",
              "0  Food52, a fast-growing, James Beard Award-winn...   \n",
              "1  Organised - Focused - Vibrant - Awesome!Do you...   \n",
              "2  Our client, located in Houston, is actively se...   \n",
              "3  THE COMPANY: ESRI – Environmental Systems Rese...   \n",
              "4  JOB TITLE: Itemization Review ManagerLOCATION:...   \n",
              "\n",
              "                                        requirements  \\\n",
              "0  Experience with content management systems a m...   \n",
              "1  What we expect from you:Your key responsibilit...   \n",
              "2  Implement pre-commissioning and commissioning ...   \n",
              "3  EDUCATION: Bachelor’s or Master’s in GIS, busi...   \n",
              "4  QUALIFICATIONS:RN license in the State of Texa...   \n",
              "\n",
              "                                            benefits  telecommuting  \\\n",
              "0                                                NaN              0   \n",
              "1  What you will get from usThrough being part of...              0   \n",
              "2                                                NaN              0   \n",
              "3  Our culture is anything but corporate—we have ...              0   \n",
              "4                              Full Benefits Offered              0   \n",
              "\n",
              "   has_company_logo  has_questions employment_type required_experience  \\\n",
              "0                 1              0           Other          Internship   \n",
              "1                 1              0       Full-time      Not Applicable   \n",
              "2                 1              0             NaN                 NaN   \n",
              "3                 1              0       Full-time    Mid-Senior level   \n",
              "4                 1              1       Full-time    Mid-Senior level   \n",
              "\n",
              "  required_education                   industry              function  \\\n",
              "0                NaN                        NaN             Marketing   \n",
              "1                NaN  Marketing and Advertising      Customer Service   \n",
              "2                NaN                        NaN                   NaN   \n",
              "3  Bachelor's Degree          Computer Software                 Sales   \n",
              "4  Bachelor's Degree     Hospital & Health Care  Health Care Provider   \n",
              "\n",
              "   fraudulent  \n",
              "0           0  \n",
              "1           0  \n",
              "2           0  \n",
              "3           0  \n",
              "4           0  "
            ],
            "text/html": [
              "\n",
              "  <div id=\"df-36bbf643-d5c7-40ae-84c0-a3a297e4ce5d\">\n",
              "    <div class=\"colab-df-container\">\n",
              "      <div>\n",
              "<style scoped>\n",
              "    .dataframe tbody tr th:only-of-type {\n",
              "        vertical-align: middle;\n",
              "    }\n",
              "\n",
              "    .dataframe tbody tr th {\n",
              "        vertical-align: top;\n",
              "    }\n",
              "\n",
              "    .dataframe thead th {\n",
              "        text-align: right;\n",
              "    }\n",
              "</style>\n",
              "<table border=\"1\" class=\"dataframe\">\n",
              "  <thead>\n",
              "    <tr style=\"text-align: right;\">\n",
              "      <th></th>\n",
              "      <th>job_id</th>\n",
              "      <th>title</th>\n",
              "      <th>location</th>\n",
              "      <th>department</th>\n",
              "      <th>salary_range</th>\n",
              "      <th>company_profile</th>\n",
              "      <th>description</th>\n",
              "      <th>requirements</th>\n",
              "      <th>benefits</th>\n",
              "      <th>telecommuting</th>\n",
              "      <th>has_company_logo</th>\n",
              "      <th>has_questions</th>\n",
              "      <th>employment_type</th>\n",
              "      <th>required_experience</th>\n",
              "      <th>required_education</th>\n",
              "      <th>industry</th>\n",
              "      <th>function</th>\n",
              "      <th>fraudulent</th>\n",
              "    </tr>\n",
              "  </thead>\n",
              "  <tbody>\n",
              "    <tr>\n",
              "      <th>0</th>\n",
              "      <td>1</td>\n",
              "      <td>Marketing Intern</td>\n",
              "      <td>US, NY, New York</td>\n",
              "      <td>Marketing</td>\n",
              "      <td>NaN</td>\n",
              "      <td>We're Food52, and we've created a groundbreaki...</td>\n",
              "      <td>Food52, a fast-growing, James Beard Award-winn...</td>\n",
              "      <td>Experience with content management systems a m...</td>\n",
              "      <td>NaN</td>\n",
              "      <td>0</td>\n",
              "      <td>1</td>\n",
              "      <td>0</td>\n",
              "      <td>Other</td>\n",
              "      <td>Internship</td>\n",
              "      <td>NaN</td>\n",
              "      <td>NaN</td>\n",
              "      <td>Marketing</td>\n",
              "      <td>0</td>\n",
              "    </tr>\n",
              "    <tr>\n",
              "      <th>1</th>\n",
              "      <td>2</td>\n",
              "      <td>Customer Service - Cloud Video Production</td>\n",
              "      <td>NZ, , Auckland</td>\n",
              "      <td>Success</td>\n",
              "      <td>NaN</td>\n",
              "      <td>90 Seconds, the worlds Cloud Video Production ...</td>\n",
              "      <td>Organised - Focused - Vibrant - Awesome!Do you...</td>\n",
              "      <td>What we expect from you:Your key responsibilit...</td>\n",
              "      <td>What you will get from usThrough being part of...</td>\n",
              "      <td>0</td>\n",
              "      <td>1</td>\n",
              "      <td>0</td>\n",
              "      <td>Full-time</td>\n",
              "      <td>Not Applicable</td>\n",
              "      <td>NaN</td>\n",
              "      <td>Marketing and Advertising</td>\n",
              "      <td>Customer Service</td>\n",
              "      <td>0</td>\n",
              "    </tr>\n",
              "    <tr>\n",
              "      <th>2</th>\n",
              "      <td>3</td>\n",
              "      <td>Commissioning Machinery Assistant (CMA)</td>\n",
              "      <td>US, IA, Wever</td>\n",
              "      <td>NaN</td>\n",
              "      <td>NaN</td>\n",
              "      <td>Valor Services provides Workforce Solutions th...</td>\n",
              "      <td>Our client, located in Houston, is actively se...</td>\n",
              "      <td>Implement pre-commissioning and commissioning ...</td>\n",
              "      <td>NaN</td>\n",
              "      <td>0</td>\n",
              "      <td>1</td>\n",
              "      <td>0</td>\n",
              "      <td>NaN</td>\n",
              "      <td>NaN</td>\n",
              "      <td>NaN</td>\n",
              "      <td>NaN</td>\n",
              "      <td>NaN</td>\n",
              "      <td>0</td>\n",
              "    </tr>\n",
              "    <tr>\n",
              "      <th>3</th>\n",
              "      <td>4</td>\n",
              "      <td>Account Executive - Washington DC</td>\n",
              "      <td>US, DC, Washington</td>\n",
              "      <td>Sales</td>\n",
              "      <td>NaN</td>\n",
              "      <td>Our passion for improving quality of life thro...</td>\n",
              "      <td>THE COMPANY: ESRI – Environmental Systems Rese...</td>\n",
              "      <td>EDUCATION: Bachelor’s or Master’s in GIS, busi...</td>\n",
              "      <td>Our culture is anything but corporate—we have ...</td>\n",
              "      <td>0</td>\n",
              "      <td>1</td>\n",
              "      <td>0</td>\n",
              "      <td>Full-time</td>\n",
              "      <td>Mid-Senior level</td>\n",
              "      <td>Bachelor's Degree</td>\n",
              "      <td>Computer Software</td>\n",
              "      <td>Sales</td>\n",
              "      <td>0</td>\n",
              "    </tr>\n",
              "    <tr>\n",
              "      <th>4</th>\n",
              "      <td>5</td>\n",
              "      <td>Bill Review Manager</td>\n",
              "      <td>US, FL, Fort Worth</td>\n",
              "      <td>NaN</td>\n",
              "      <td>NaN</td>\n",
              "      <td>SpotSource Solutions LLC is a Global Human Cap...</td>\n",
              "      <td>JOB TITLE: Itemization Review ManagerLOCATION:...</td>\n",
              "      <td>QUALIFICATIONS:RN license in the State of Texa...</td>\n",
              "      <td>Full Benefits Offered</td>\n",
              "      <td>0</td>\n",
              "      <td>1</td>\n",
              "      <td>1</td>\n",
              "      <td>Full-time</td>\n",
              "      <td>Mid-Senior level</td>\n",
              "      <td>Bachelor's Degree</td>\n",
              "      <td>Hospital &amp; Health Care</td>\n",
              "      <td>Health Care Provider</td>\n",
              "      <td>0</td>\n",
              "    </tr>\n",
              "  </tbody>\n",
              "</table>\n",
              "</div>\n",
              "      <button class=\"colab-df-convert\" onclick=\"convertToInteractive('df-36bbf643-d5c7-40ae-84c0-a3a297e4ce5d')\"\n",
              "              title=\"Convert this dataframe to an interactive table.\"\n",
              "              style=\"display:none;\">\n",
              "        \n",
              "  <svg xmlns=\"http://www.w3.org/2000/svg\" height=\"24px\"viewBox=\"0 0 24 24\"\n",
              "       width=\"24px\">\n",
              "    <path d=\"M0 0h24v24H0V0z\" fill=\"none\"/>\n",
              "    <path d=\"M18.56 5.44l.94 2.06.94-2.06 2.06-.94-2.06-.94-.94-2.06-.94 2.06-2.06.94zm-11 1L8.5 8.5l.94-2.06 2.06-.94-2.06-.94L8.5 2.5l-.94 2.06-2.06.94zm10 10l.94 2.06.94-2.06 2.06-.94-2.06-.94-.94-2.06-.94 2.06-2.06.94z\"/><path d=\"M17.41 7.96l-1.37-1.37c-.4-.4-.92-.59-1.43-.59-.52 0-1.04.2-1.43.59L10.3 9.45l-7.72 7.72c-.78.78-.78 2.05 0 2.83L4 21.41c.39.39.9.59 1.41.59.51 0 1.02-.2 1.41-.59l7.78-7.78 2.81-2.81c.8-.78.8-2.07 0-2.86zM5.41 20L4 18.59l7.72-7.72 1.47 1.35L5.41 20z\"/>\n",
              "  </svg>\n",
              "      </button>\n",
              "      \n",
              "  <style>\n",
              "    .colab-df-container {\n",
              "      display:flex;\n",
              "      flex-wrap:wrap;\n",
              "      gap: 12px;\n",
              "    }\n",
              "\n",
              "    .colab-df-convert {\n",
              "      background-color: #E8F0FE;\n",
              "      border: none;\n",
              "      border-radius: 50%;\n",
              "      cursor: pointer;\n",
              "      display: none;\n",
              "      fill: #1967D2;\n",
              "      height: 32px;\n",
              "      padding: 0 0 0 0;\n",
              "      width: 32px;\n",
              "    }\n",
              "\n",
              "    .colab-df-convert:hover {\n",
              "      background-color: #E2EBFA;\n",
              "      box-shadow: 0px 1px 2px rgba(60, 64, 67, 0.3), 0px 1px 3px 1px rgba(60, 64, 67, 0.15);\n",
              "      fill: #174EA6;\n",
              "    }\n",
              "\n",
              "    [theme=dark] .colab-df-convert {\n",
              "      background-color: #3B4455;\n",
              "      fill: #D2E3FC;\n",
              "    }\n",
              "\n",
              "    [theme=dark] .colab-df-convert:hover {\n",
              "      background-color: #434B5C;\n",
              "      box-shadow: 0px 1px 3px 1px rgba(0, 0, 0, 0.15);\n",
              "      filter: drop-shadow(0px 1px 2px rgba(0, 0, 0, 0.3));\n",
              "      fill: #FFFFFF;\n",
              "    }\n",
              "  </style>\n",
              "\n",
              "      <script>\n",
              "        const buttonEl =\n",
              "          document.querySelector('#df-36bbf643-d5c7-40ae-84c0-a3a297e4ce5d button.colab-df-convert');\n",
              "        buttonEl.style.display =\n",
              "          google.colab.kernel.accessAllowed ? 'block' : 'none';\n",
              "\n",
              "        async function convertToInteractive(key) {\n",
              "          const element = document.querySelector('#df-36bbf643-d5c7-40ae-84c0-a3a297e4ce5d');\n",
              "          const dataTable =\n",
              "            await google.colab.kernel.invokeFunction('convertToInteractive',\n",
              "                                                     [key], {});\n",
              "          if (!dataTable) return;\n",
              "\n",
              "          const docLinkHtml = 'Like what you see? Visit the ' +\n",
              "            '<a target=\"_blank\" href=https://colab.research.google.com/notebooks/data_table.ipynb>data table notebook</a>'\n",
              "            + ' to learn more about interactive tables.';\n",
              "          element.innerHTML = '';\n",
              "          dataTable['output_type'] = 'display_data';\n",
              "          await google.colab.output.renderOutput(dataTable, element);\n",
              "          const docLink = document.createElement('div');\n",
              "          docLink.innerHTML = docLinkHtml;\n",
              "          element.appendChild(docLink);\n",
              "        }\n",
              "      </script>\n",
              "    </div>\n",
              "  </div>\n",
              "  "
            ]
          },
          "metadata": {},
          "execution_count": 70
        }
      ]
    },
    {
      "cell_type": "code",
      "source": [
        "job_data['fraudulent'].value_counts()"
      ],
      "metadata": {
        "colab": {
          "base_uri": "https://localhost:8080/"
        },
        "id": "XPXI5j-6i8x8",
        "outputId": "d32200c2-c6cc-47a2-c97f-ff34c717e28a"
      },
      "execution_count": null,
      "outputs": [
        {
          "output_type": "execute_result",
          "data": {
            "text/plain": [
              "0    17014\n",
              "1      866\n",
              "Name: fraudulent, dtype: int64"
            ]
          },
          "metadata": {},
          "execution_count": 71
        }
      ]
    },
    {
      "cell_type": "code",
      "source": [
        "job_data.shape"
      ],
      "metadata": {
        "colab": {
          "base_uri": "https://localhost:8080/"
        },
        "id": "71X-wrccjZnM",
        "outputId": "4da57dde-5255-4c65-f4ff-59f09033520d"
      },
      "execution_count": null,
      "outputs": [
        {
          "output_type": "execute_result",
          "data": {
            "text/plain": [
              "(17880, 18)"
            ]
          },
          "metadata": {},
          "execution_count": 72
        }
      ]
    },
    {
      "cell_type": "code",
      "source": [
        "job_data.describe"
      ],
      "metadata": {
        "id": "31ABjOXUj7a9",
        "colab": {
          "base_uri": "https://localhost:8080/"
        },
        "outputId": "3f7e4ea9-f30e-4689-e81f-8e343893ad83"
      },
      "execution_count": null,
      "outputs": [
        {
          "output_type": "execute_result",
          "data": {
            "text/plain": [
              "<bound method NDFrame.describe of        job_id                                              title  \\\n",
              "0           1                                   Marketing Intern   \n",
              "1           2          Customer Service - Cloud Video Production   \n",
              "2           3            Commissioning Machinery Assistant (CMA)   \n",
              "3           4                  Account Executive - Washington DC   \n",
              "4           5                                Bill Review Manager   \n",
              "...       ...                                                ...   \n",
              "17875   17876                   Account Director - Distribution    \n",
              "17876   17877                                 Payroll Accountant   \n",
              "17877   17878  Project Cost Control Staff Engineer - Cost Con...   \n",
              "17878   17879                                   Graphic Designer   \n",
              "17879   17880                         Web Application Developers   \n",
              "\n",
              "                   location   department salary_range  \\\n",
              "0          US, NY, New York    Marketing          NaN   \n",
              "1            NZ, , Auckland      Success          NaN   \n",
              "2             US, IA, Wever          NaN          NaN   \n",
              "3        US, DC, Washington        Sales          NaN   \n",
              "4        US, FL, Fort Worth          NaN          NaN   \n",
              "...                     ...          ...          ...   \n",
              "17875       CA, ON, Toronto        Sales          NaN   \n",
              "17876  US, PA, Philadelphia   Accounting          NaN   \n",
              "17877       US, TX, Houston          NaN          NaN   \n",
              "17878         NG, LA, Lagos          NaN          NaN   \n",
              "17879     NZ, N, Wellington  Engineering          NaN   \n",
              "\n",
              "                                         company_profile  \\\n",
              "0      We're Food52, and we've created a groundbreaki...   \n",
              "1      90 Seconds, the worlds Cloud Video Production ...   \n",
              "2      Valor Services provides Workforce Solutions th...   \n",
              "3      Our passion for improving quality of life thro...   \n",
              "4      SpotSource Solutions LLC is a Global Human Cap...   \n",
              "...                                                  ...   \n",
              "17875  Vend is looking for some awesome new talent to...   \n",
              "17876  WebLinc is the e-commerce platform and service...   \n",
              "17877  We Provide Full Time Permanent Positions for m...   \n",
              "17878                                                NaN   \n",
              "17879  Vend is looking for some awesome new talent to...   \n",
              "\n",
              "                                             description  \\\n",
              "0      Food52, a fast-growing, James Beard Award-winn...   \n",
              "1      Organised - Focused - Vibrant - Awesome!Do you...   \n",
              "2      Our client, located in Houston, is actively se...   \n",
              "3      THE COMPANY: ESRI – Environmental Systems Rese...   \n",
              "4      JOB TITLE: Itemization Review ManagerLOCATION:...   \n",
              "...                                                  ...   \n",
              "17875  Just in case this is the first time you’ve vis...   \n",
              "17876  The Payroll Accountant will focus primarily on...   \n",
              "17877  Experienced Project Cost Control Staff Enginee...   \n",
              "17878  Nemsia Studios is looking for an experienced v...   \n",
              "17879  Who are we?Vend is an award winning web based ...   \n",
              "\n",
              "                                            requirements  \\\n",
              "0      Experience with content management systems a m...   \n",
              "1      What we expect from you:Your key responsibilit...   \n",
              "2      Implement pre-commissioning and commissioning ...   \n",
              "3      EDUCATION: Bachelor’s or Master’s in GIS, busi...   \n",
              "4      QUALIFICATIONS:RN license in the State of Texa...   \n",
              "...                                                  ...   \n",
              "17875  To ace this role you:Will eat comprehensive St...   \n",
              "17876  - B.A. or B.S. in Accounting- Desire to have f...   \n",
              "17877  At least 12 years professional experience.Abil...   \n",
              "17878  1. Must be fluent in the latest versions of Co...   \n",
              "17879  We want to hear from you if:You have an in-dep...   \n",
              "\n",
              "                                                benefits  telecommuting  \\\n",
              "0                                                    NaN              0   \n",
              "1      What you will get from usThrough being part of...              0   \n",
              "2                                                    NaN              0   \n",
              "3      Our culture is anything but corporate—we have ...              0   \n",
              "4                                  Full Benefits Offered              0   \n",
              "...                                                  ...            ...   \n",
              "17875  What can you expect from us?We have an open cu...              0   \n",
              "17876  Health &amp; WellnessMedical planPrescription ...              0   \n",
              "17877                                                NaN              0   \n",
              "17878  Competitive salary (compensation will be based...              0   \n",
              "17879                                                NaN              0   \n",
              "\n",
              "       has_company_logo  has_questions employment_type required_experience  \\\n",
              "0                     1              0           Other          Internship   \n",
              "1                     1              0       Full-time      Not Applicable   \n",
              "2                     1              0             NaN                 NaN   \n",
              "3                     1              0       Full-time    Mid-Senior level   \n",
              "4                     1              1       Full-time    Mid-Senior level   \n",
              "...                 ...            ...             ...                 ...   \n",
              "17875                 1              1       Full-time    Mid-Senior level   \n",
              "17876                 1              1       Full-time    Mid-Senior level   \n",
              "17877                 0              0       Full-time                 NaN   \n",
              "17878                 0              1        Contract      Not Applicable   \n",
              "17879                 1              1       Full-time    Mid-Senior level   \n",
              "\n",
              "      required_education                   industry              function  \\\n",
              "0                    NaN                        NaN             Marketing   \n",
              "1                    NaN  Marketing and Advertising      Customer Service   \n",
              "2                    NaN                        NaN                   NaN   \n",
              "3      Bachelor's Degree          Computer Software                 Sales   \n",
              "4      Bachelor's Degree     Hospital & Health Care  Health Care Provider   \n",
              "...                  ...                        ...                   ...   \n",
              "17875                NaN          Computer Software                 Sales   \n",
              "17876  Bachelor's Degree                   Internet   Accounting/Auditing   \n",
              "17877                NaN                        NaN                   NaN   \n",
              "17878       Professional             Graphic Design                Design   \n",
              "17879                NaN          Computer Software           Engineering   \n",
              "\n",
              "       fraudulent  \n",
              "0               0  \n",
              "1               0  \n",
              "2               0  \n",
              "3               0  \n",
              "4               0  \n",
              "...           ...  \n",
              "17875           0  \n",
              "17876           0  \n",
              "17877           0  \n",
              "17878           0  \n",
              "17879           0  \n",
              "\n",
              "[17880 rows x 18 columns]>"
            ]
          },
          "metadata": {},
          "execution_count": 73
        }
      ]
    },
    {
      "cell_type": "code",
      "source": [
        "job_data.isnull().sum()"
      ],
      "metadata": {
        "colab": {
          "base_uri": "https://localhost:8080/"
        },
        "id": "5o-0B95Nn_W9",
        "outputId": "f4effc9d-1550-4cf6-e042-3fed2ca27032"
      },
      "execution_count": null,
      "outputs": [
        {
          "output_type": "execute_result",
          "data": {
            "text/plain": [
              "job_id                     0\n",
              "title                      0\n",
              "location                 346\n",
              "department             11547\n",
              "salary_range           15012\n",
              "company_profile         3308\n",
              "description                1\n",
              "requirements            2695\n",
              "benefits                7210\n",
              "telecommuting              0\n",
              "has_company_logo           0\n",
              "has_questions              0\n",
              "employment_type         3471\n",
              "required_experience     7050\n",
              "required_education      8105\n",
              "industry                4903\n",
              "function                6455\n",
              "fraudulent                 0\n",
              "dtype: int64"
            ]
          },
          "metadata": {},
          "execution_count": 74
        }
      ]
    },
    {
      "cell_type": "code",
      "source": [
        "job_data = job_data.fillna('')"
      ],
      "metadata": {
        "id": "RyHks0HXpL7l"
      },
      "execution_count": null,
      "outputs": []
    },
    {
      "cell_type": "code",
      "source": [
        "job_data.isnull().sum()"
      ],
      "metadata": {
        "colab": {
          "base_uri": "https://localhost:8080/"
        },
        "id": "mWWaZkIeppKC",
        "outputId": "f160d54e-a63b-46fa-c365-bdff9db57f73"
      },
      "execution_count": null,
      "outputs": [
        {
          "output_type": "execute_result",
          "data": {
            "text/plain": [
              "job_id                 0\n",
              "title                  0\n",
              "location               0\n",
              "department             0\n",
              "salary_range           0\n",
              "company_profile        0\n",
              "description            0\n",
              "requirements           0\n",
              "benefits               0\n",
              "telecommuting          0\n",
              "has_company_logo       0\n",
              "has_questions          0\n",
              "employment_type        0\n",
              "required_experience    0\n",
              "required_education     0\n",
              "industry               0\n",
              "function               0\n",
              "fraudulent             0\n",
              "dtype: int64"
            ]
          },
          "metadata": {},
          "execution_count": 76
        }
      ]
    },
    {
      "cell_type": "markdown",
      "source": [
        "Merging the Job Title and its requirements\n"
      ],
      "metadata": {
        "id": "MV3VHJlnwJCP"
      }
    },
    {
      "cell_type": "code",
      "source": [
        "job_data['Title_Requirements'] = job_data['title']+ ''+ job_data['requirements']"
      ],
      "metadata": {
        "id": "ixES679mwS9x"
      },
      "execution_count": null,
      "outputs": []
    },
    {
      "cell_type": "code",
      "source": [
        "print(job_data['Title_Requirements'])"
      ],
      "metadata": {
        "colab": {
          "base_uri": "https://localhost:8080/"
        },
        "id": "KkGIH-8ixAHv",
        "outputId": "d3b1368d-2987-476a-9a02-645f85243556"
      },
      "execution_count": null,
      "outputs": [
        {
          "output_type": "stream",
          "name": "stdout",
          "text": [
            "0        Marketing InternExperience with content manage...\n",
            "1        Customer Service - Cloud Video ProductionWhat ...\n",
            "2        Commissioning Machinery Assistant (CMA)Impleme...\n",
            "3        Account Executive - Washington DCEDUCATION: Ba...\n",
            "4        Bill Review ManagerQUALIFICATIONS:RN license i...\n",
            "                               ...                        \n",
            "17875    Account Director - Distribution To ace this ro...\n",
            "17876    Payroll Accountant- B.A. or B.S. in Accounting...\n",
            "17877    Project Cost Control Staff Engineer - Cost Con...\n",
            "17878    Graphic Designer1. Must be fluent in the lates...\n",
            "17879    Web Application DevelopersWe want to hear from...\n",
            "Name: Title_Requirements, Length: 17880, dtype: object\n"
          ]
        }
      ]
    },
    {
      "cell_type": "markdown",
      "source": [
        "Separating the data and label"
      ],
      "metadata": {
        "id": "RB_deQmDxr4U"
      }
    },
    {
      "cell_type": "code",
      "source": [
        "x = job_data.drop(columns = 'fraudulent', axis = 1)\n",
        "y = job_data['fraudulent']"
      ],
      "metadata": {
        "id": "GWaQ03hnxHtA"
      },
      "execution_count": null,
      "outputs": []
    },
    {
      "cell_type": "code",
      "source": [
        "print(x)\n",
        "print(y)"
      ],
      "metadata": {
        "colab": {
          "base_uri": "https://localhost:8080/"
        },
        "id": "VEiA3xr-yEEK",
        "outputId": "f436a453-bdcb-40b5-8b97-9c1ae1608e53"
      },
      "execution_count": null,
      "outputs": [
        {
          "output_type": "stream",
          "name": "stdout",
          "text": [
            "       job_id                                              title  \\\n",
            "0           1                                   Marketing Intern   \n",
            "1           2          Customer Service - Cloud Video Production   \n",
            "2           3            Commissioning Machinery Assistant (CMA)   \n",
            "3           4                  Account Executive - Washington DC   \n",
            "4           5                                Bill Review Manager   \n",
            "...       ...                                                ...   \n",
            "17875   17876                   Account Director - Distribution    \n",
            "17876   17877                                 Payroll Accountant   \n",
            "17877   17878  Project Cost Control Staff Engineer - Cost Con...   \n",
            "17878   17879                                   Graphic Designer   \n",
            "17879   17880                         Web Application Developers   \n",
            "\n",
            "                   location   department salary_range  \\\n",
            "0          US, NY, New York    Marketing                \n",
            "1            NZ, , Auckland      Success                \n",
            "2             US, IA, Wever                             \n",
            "3        US, DC, Washington        Sales                \n",
            "4        US, FL, Fort Worth                             \n",
            "...                     ...          ...          ...   \n",
            "17875       CA, ON, Toronto        Sales                \n",
            "17876  US, PA, Philadelphia   Accounting                \n",
            "17877       US, TX, Houston                             \n",
            "17878         NG, LA, Lagos                             \n",
            "17879     NZ, N, Wellington  Engineering                \n",
            "\n",
            "                                         company_profile  \\\n",
            "0      We're Food52, and we've created a groundbreaki...   \n",
            "1      90 Seconds, the worlds Cloud Video Production ...   \n",
            "2      Valor Services provides Workforce Solutions th...   \n",
            "3      Our passion for improving quality of life thro...   \n",
            "4      SpotSource Solutions LLC is a Global Human Cap...   \n",
            "...                                                  ...   \n",
            "17875  Vend is looking for some awesome new talent to...   \n",
            "17876  WebLinc is the e-commerce platform and service...   \n",
            "17877  We Provide Full Time Permanent Positions for m...   \n",
            "17878                                                      \n",
            "17879  Vend is looking for some awesome new talent to...   \n",
            "\n",
            "                                             description  \\\n",
            "0      Food52, a fast-growing, James Beard Award-winn...   \n",
            "1      Organised - Focused - Vibrant - Awesome!Do you...   \n",
            "2      Our client, located in Houston, is actively se...   \n",
            "3      THE COMPANY: ESRI – Environmental Systems Rese...   \n",
            "4      JOB TITLE: Itemization Review ManagerLOCATION:...   \n",
            "...                                                  ...   \n",
            "17875  Just in case this is the first time you’ve vis...   \n",
            "17876  The Payroll Accountant will focus primarily on...   \n",
            "17877  Experienced Project Cost Control Staff Enginee...   \n",
            "17878  Nemsia Studios is looking for an experienced v...   \n",
            "17879  Who are we?Vend is an award winning web based ...   \n",
            "\n",
            "                                            requirements  \\\n",
            "0      Experience with content management systems a m...   \n",
            "1      What we expect from you:Your key responsibilit...   \n",
            "2      Implement pre-commissioning and commissioning ...   \n",
            "3      EDUCATION: Bachelor’s or Master’s in GIS, busi...   \n",
            "4      QUALIFICATIONS:RN license in the State of Texa...   \n",
            "...                                                  ...   \n",
            "17875  To ace this role you:Will eat comprehensive St...   \n",
            "17876  - B.A. or B.S. in Accounting- Desire to have f...   \n",
            "17877  At least 12 years professional experience.Abil...   \n",
            "17878  1. Must be fluent in the latest versions of Co...   \n",
            "17879  We want to hear from you if:You have an in-dep...   \n",
            "\n",
            "                                                benefits  telecommuting  \\\n",
            "0                                                                     0   \n",
            "1      What you will get from usThrough being part of...              0   \n",
            "2                                                                     0   \n",
            "3      Our culture is anything but corporate—we have ...              0   \n",
            "4                                  Full Benefits Offered              0   \n",
            "...                                                  ...            ...   \n",
            "17875  What can you expect from us?We have an open cu...              0   \n",
            "17876  Health &amp; WellnessMedical planPrescription ...              0   \n",
            "17877                                                                 0   \n",
            "17878  Competitive salary (compensation will be based...              0   \n",
            "17879                                                                 0   \n",
            "\n",
            "       has_company_logo  has_questions employment_type required_experience  \\\n",
            "0                     1              0           Other          Internship   \n",
            "1                     1              0       Full-time      Not Applicable   \n",
            "2                     1              0                                       \n",
            "3                     1              0       Full-time    Mid-Senior level   \n",
            "4                     1              1       Full-time    Mid-Senior level   \n",
            "...                 ...            ...             ...                 ...   \n",
            "17875                 1              1       Full-time    Mid-Senior level   \n",
            "17876                 1              1       Full-time    Mid-Senior level   \n",
            "17877                 0              0       Full-time                       \n",
            "17878                 0              1        Contract      Not Applicable   \n",
            "17879                 1              1       Full-time    Mid-Senior level   \n",
            "\n",
            "      required_education                   industry              function  \\\n",
            "0                                                               Marketing   \n",
            "1                         Marketing and Advertising      Customer Service   \n",
            "2                                                                           \n",
            "3      Bachelor's Degree          Computer Software                 Sales   \n",
            "4      Bachelor's Degree     Hospital & Health Care  Health Care Provider   \n",
            "...                  ...                        ...                   ...   \n",
            "17875                             Computer Software                 Sales   \n",
            "17876  Bachelor's Degree                   Internet   Accounting/Auditing   \n",
            "17877                                                                       \n",
            "17878       Professional             Graphic Design                Design   \n",
            "17879                             Computer Software           Engineering   \n",
            "\n",
            "                                      Title_Requirements  \n",
            "0      Marketing InternExperience with content manage...  \n",
            "1      Customer Service - Cloud Video ProductionWhat ...  \n",
            "2      Commissioning Machinery Assistant (CMA)Impleme...  \n",
            "3      Account Executive - Washington DCEDUCATION: Ba...  \n",
            "4      Bill Review ManagerQUALIFICATIONS:RN license i...  \n",
            "...                                                  ...  \n",
            "17875  Account Director - Distribution To ace this ro...  \n",
            "17876  Payroll Accountant- B.A. or B.S. in Accounting...  \n",
            "17877  Project Cost Control Staff Engineer - Cost Con...  \n",
            "17878  Graphic Designer1. Must be fluent in the lates...  \n",
            "17879  Web Application DevelopersWe want to hear from...  \n",
            "\n",
            "[17880 rows x 18 columns]\n",
            "0        0\n",
            "1        0\n",
            "2        0\n",
            "3        0\n",
            "4        0\n",
            "        ..\n",
            "17875    0\n",
            "17876    0\n",
            "17877    0\n",
            "17878    0\n",
            "17879    0\n",
            "Name: fraudulent, Length: 17880, dtype: int64\n"
          ]
        }
      ]
    },
    {
      "cell_type": "code",
      "source": [
        "import nltk"
      ],
      "metadata": {
        "id": "f4rDb8bmxOGH"
      },
      "execution_count": null,
      "outputs": []
    },
    {
      "cell_type": "code",
      "source": [
        "nltk.download('stopwords')"
      ],
      "metadata": {
        "colab": {
          "base_uri": "https://localhost:8080/"
        },
        "id": "fvvMqqZAxR8h",
        "outputId": "92918cfe-9506-4bac-ee9d-6d5689498413"
      },
      "execution_count": null,
      "outputs": [
        {
          "output_type": "stream",
          "name": "stderr",
          "text": [
            "[nltk_data] Downloading package stopwords to /root/nltk_data...\n",
            "[nltk_data]   Package stopwords is already up-to-date!\n"
          ]
        },
        {
          "output_type": "execute_result",
          "data": {
            "text/plain": [
              "True"
            ]
          },
          "metadata": {},
          "execution_count": 82
        }
      ]
    },
    {
      "cell_type": "code",
      "source": [
        "print(stopwords.words('english'))"
      ],
      "metadata": {
        "colab": {
          "base_uri": "https://localhost:8080/"
        },
        "id": "Ar8x8wrKxhvS",
        "outputId": "868ad85b-e7e9-4006-db61-7912fc49992b"
      },
      "execution_count": null,
      "outputs": [
        {
          "output_type": "stream",
          "name": "stdout",
          "text": [
            "['i', 'me', 'my', 'myself', 'we', 'our', 'ours', 'ourselves', 'you', \"you're\", \"you've\", \"you'll\", \"you'd\", 'your', 'yours', 'yourself', 'yourselves', 'he', 'him', 'his', 'himself', 'she', \"she's\", 'her', 'hers', 'herself', 'it', \"it's\", 'its', 'itself', 'they', 'them', 'their', 'theirs', 'themselves', 'what', 'which', 'who', 'whom', 'this', 'that', \"that'll\", 'these', 'those', 'am', 'is', 'are', 'was', 'were', 'be', 'been', 'being', 'have', 'has', 'had', 'having', 'do', 'does', 'did', 'doing', 'a', 'an', 'the', 'and', 'but', 'if', 'or', 'because', 'as', 'until', 'while', 'of', 'at', 'by', 'for', 'with', 'about', 'against', 'between', 'into', 'through', 'during', 'before', 'after', 'above', 'below', 'to', 'from', 'up', 'down', 'in', 'out', 'on', 'off', 'over', 'under', 'again', 'further', 'then', 'once', 'here', 'there', 'when', 'where', 'why', 'how', 'all', 'any', 'both', 'each', 'few', 'more', 'most', 'other', 'some', 'such', 'no', 'nor', 'not', 'only', 'own', 'same', 'so', 'than', 'too', 'very', 's', 't', 'can', 'will', 'just', 'don', \"don't\", 'should', \"should've\", 'now', 'd', 'll', 'm', 'o', 're', 've', 'y', 'ain', 'aren', \"aren't\", 'couldn', \"couldn't\", 'didn', \"didn't\", 'doesn', \"doesn't\", 'hadn', \"hadn't\", 'hasn', \"hasn't\", 'haven', \"haven't\", 'isn', \"isn't\", 'ma', 'mightn', \"mightn't\", 'mustn', \"mustn't\", 'needn', \"needn't\", 'shan', \"shan't\", 'shouldn', \"shouldn't\", 'wasn', \"wasn't\", 'weren', \"weren't\", 'won', \"won't\", 'wouldn', \"wouldn't\"]\n"
          ]
        }
      ]
    },
    {
      "cell_type": "markdown",
      "source": [
        "Stemming"
      ],
      "metadata": {
        "id": "43AoUexUzTtk"
      }
    },
    {
      "cell_type": "code",
      "source": [
        "#Stemming is the process of reducing a word to its root word"
      ],
      "metadata": {
        "id": "kHjwnSUzzBdZ"
      },
      "execution_count": null,
      "outputs": []
    },
    {
      "cell_type": "code",
      "source": [
        "Porter_stem = PorterStemmer()"
      ],
      "metadata": {
        "id": "OQ0jZvRzihxn"
      },
      "execution_count": null,
      "outputs": []
    },
    {
      "cell_type": "code",
      "source": [
        "def stemming(Title_Requirements):\n",
        "  stemmed_data = re.sub('[^a-zA-z]','',Title_Requirements)\n",
        "  stemmed_data = stemmed_data.lower()\n",
        "  stemmed_data = stemmed_data.split()\n",
        "  stemmed_data = [Porter_stem.stem(word) for word in stemmed_data if not word in stopwords.words('english')]\n",
        "  stemmed_data = ''.join(stemmed_data)\n",
        "  return stemmed_data"
      ],
      "metadata": {
        "id": "x6xEsipsrvqb"
      },
      "execution_count": null,
      "outputs": []
    },
    {
      "cell_type": "code",
      "source": [
        "z = job_data['Title_Requirements']"
      ],
      "metadata": {
        "id": "g5GEN46zz9XX"
      },
      "execution_count": null,
      "outputs": []
    },
    {
      "cell_type": "code",
      "source": [
        "z = z.apply(stemming)"
      ],
      "metadata": {
        "id": "3zbMn_yeASby"
      },
      "execution_count": null,
      "outputs": []
    },
    {
      "cell_type": "code",
      "source": [
        "print(z)"
      ],
      "metadata": {
        "colab": {
          "base_uri": "https://localhost:8080/"
        },
        "id": "oZ9MVq4e1YfB",
        "outputId": "67bf9e59-2a70-43b2-d970-f47d83cc4821"
      },
      "execution_count": null,
      "outputs": [
        {
          "output_type": "stream",
          "name": "stdout",
          "text": [
            "0        marketinginternexperiencewithcontentmanagement...\n",
            "1        customerservicecloudvideoproductionwhatweexpec...\n",
            "2        commissioningmachineryassistantcmaimplementpre...\n",
            "3        accountexecutivewashingtondceducationbachelors...\n",
            "4        billreviewmanagerqualificationsrnlicenseinthes...\n",
            "                               ...                        \n",
            "17875    accountdirectordistributiontoacethisroleyouwil...\n",
            "17876    payrollaccountantbaorbsinaccountingdesiretohav...\n",
            "17877    projectcostcontrolstaffengineercostcontrolexpt...\n",
            "17878    graphicdesignermustbefluentinthelatestversions...\n",
            "17879    webapplicationdeveloperswewanttohearfromyouify...\n",
            "Name: Title_Requirements, Length: 17880, dtype: object\n"
          ]
        }
      ]
    },
    {
      "cell_type": "code",
      "source": [
        "x = z.values\n",
        "y = job_data['fraudulent'].values"
      ],
      "metadata": {
        "id": "vnHUaXzt9XDa"
      },
      "execution_count": null,
      "outputs": []
    },
    {
      "cell_type": "code",
      "source": [
        "print(x)"
      ],
      "metadata": {
        "colab": {
          "base_uri": "https://localhost:8080/"
        },
        "id": "L5w4VQQ8V7KQ",
        "outputId": "3806c9f8-5d30-4bb9-b4e8-80b9cec2cecb"
      },
      "execution_count": null,
      "outputs": [
        {
          "output_type": "stream",
          "name": "stdout",
          "text": [
            "['marketinginternexperiencewithcontentmanagementsystemsamajorplusanybloggingcountsfamiliarwiththefoodeditorialvoiceandaestheticlovesfoodappreciatestheimportanceofhomecookingandcookingwiththeseasonsmeticulouseditorperfectionistobsessiveattentiontodetailmaddenedbytyposandbrokenlinksdelightedbyfindingandfixingthemcheerfulunderpressureexcellentcommunicationskillsamultitaskerandjugglerofresponsibilitiesbigandsmallinterestedinandengagedwithsocialmedialiketwitterfacebookandpinterestlovesproblemsolvingandcollaboratingtodrivefoodforwardthinksbigpicturebutpitchesinonthenittygrittyofrunningasmallcompanydishesshoppingadministrativesupportcomfortablewiththerealitiesofworkingforastartupbeingoncalloneveningsandweekendsandworkinglonghour'\n",
            " 'customerservicecloudvideoproductionwhatweexpectfromyouyourkeyresponsibilitywillbetocommunicatewiththeclientsecondsteamandfreelancecommunitythroughoutthevideoproductionprocessincludingshootplanningsecuringfreelancetalentmanagingworkflowandtheonlineproductionmanagementsystemtheaimistomanageeachvideoprojecteffectivelysothatweproducegreatvideosthatourclientslovekeyattributesclientfocusedexcellentcustomerserviceandcommunicationskillsonlineoustandingcomputerknowledgeandexperienceusingonlinesoftwareandprojectmanagementtoolsorganisedmanageworkloadandabletomultitaskattentiontodetailmotivatedselfstarterwithapassionfordoingexcellentworkandachievinggreatresultsadaptableshowinitiativeandthinkonyourfeetasthisisaconstantlyevolvingatmosphereflexiblefastturnaroundworkandafterhoursavailabilityeasygoingampupbeatdosentgetboggeddownandlovesthechallengesenseofhumourhavealaughandknowthatworkinginastartuptakesgutsabilitytodeliverincludingmeetingprojectdeadlinesandbudgetattitudeismoreimportantthanexperienceatsecondshoweverpreviousexperienceincustomerserviceandorprojectmanagementisbeneficialpleaseviewourplatformwebsiteaturl_aacefafbeeaddafdebbdcdddeaandgetaclearunderstandaboutwhatwedobeforereachingout'\n",
            " 'commissioningmachineryassistantcmaimplementprecommissioningandcommissioningproceduresforrotaryequipmentexecuteallactivitieswithsubcontractorsassignedcrewthatpertainstothedisciplineensureeffectiveutilizationofcommissioningmanpowerandconsumablesensuretheexecutionofvendorspecialistsfieldactivitieswiththeassignedresourcesfromthesubcontractorpervendorsrepresentativeplanscarryoutequipmentinspectionswithclientrepresentativesandensurepropercertificationisproducedprepareformsforallpendingtestsandsubmitsignedcertificatesforfinalhandovertothecertificationengineerforqaandqccoordinateinthefieldwithvendorrepresentativeskeeprecordsofallactivitiesensurethatsafetypracticesarestrictlyfollowedduringtheexecutionofactivitiesreportprogressandconstraintstothemechanicalsupervisorpossibleauthorizationbysitemanagertoreceiveorissueapermittoworkaccordingtoprojectpermittoworkproceduresassistsupervisortoexpeditependingpunchlistitemsinaccordancewiththecommissioningmanagersprioritiesassistsupervisortocoordinateandsuperviseconstructionsupportactivitiesduringprecommissioningandcommissioningactivitiescompanyoverviewourclientisapremiereengineeringconstructionandprocurementcompanythatexecuteslargescaleprojectsintern'\n",
            " ...\n",
            " 'projectcostcontrolstaffengineercostcontrolexptxatleastyearsprofessionalexperienceabilitytoworkinadiverseteamenvironmentaminimumofyearsofexperienceinprojectcostcontrolwithaworkingknowledgeofengineeringprocurementaccountingandconstructionpracticesavailablefortraveltosupportthebusinessstronganalyticalskillsexcellentcomputerskillsexcellentqualityorientationandattentiontodetailgoodcommunicationskillseducationalqualificationsbsdegreeinengineeringconstructionmanagementfinanceaccountingbusinessmanagementormathematicsweprovidefulltimepermanentpositionsformanymediumtolargeuscompanieswehavemorethanjobsavailableinourwebsiteourwebsitehasthousandsofopeningsandthesejobopeningsarenotpostedanywhereelseonlinewhenyouapplyonlinethroughourwebsiteitautomaticallyforwardsyourinformationtotherecruiterhandlingyourappliedjobifyouareaclosematchtheywillcontactyouimmediatelytodiscussaboutthepositionsanddoeverythingtogetyouaninterviewwiththeclientasquicklyaspossiblevisiturl_ecafbfecaefbcdcfbebadcacdddbaeurl_abbfabcdfabbacdaaf'\n",
            " 'graphicdesignermustbefluentinthelatestversionsofcorelampadobeccespphotoshopillustratorampindesignhaveastronginterestininteractiveinterfacedesignunderstandcolortheorytypographycompositionandphotoretouchingbeabletotakedesigndirectionmustthinkcreativelyandstepoutsideofthenormbewillingtoputintheextratimeandeffortonprojectseagertolearnandhaveagreatattitudebeselfsufficientandabletofigureproblemsoutonyourown'\n",
            " 'webapplicationdeveloperswewanttohearfromyouifyouhaveanindepthunderstandingofooprogrammingyoutotallygetmvcandmultitierarchitectureyouhaveexperiencewithtddorwritingautomatedtestsyouunderstandrelationaldatabasesandknowhowtowritesqlyouveworkedanagilestyleteambeforeandaredownwithcooperationbonuspointsifyouveworkedinretailbeforeifthissoundslikeyouthengetintouchnowanddelightuswithyouruniqueapplicationwehavehugeprojectsinthepipelinethisyearandneedthebesttalentonboardtohelpachieveourgoalswhilevendistotallyopentoreceivingapplicationsfrompeoplebasedoverseasourrecruitmentprocessfortechnicaltalentislengthyandinvolvesalotoffacetofacetimebetweenourcandidatesandexistingteammembersherewecanstartinitialstagesofinterviewingusingawesometechnologylikeskypeandgooglehangoutswereallyneedyoutobehereandtohavehungoutwithusinaucklandbeforemakingajoboff']\n"
          ]
        }
      ]
    },
    {
      "cell_type": "code",
      "source": [
        "print(y)"
      ],
      "metadata": {
        "colab": {
          "base_uri": "https://localhost:8080/"
        },
        "id": "-77awzpwV-Xa",
        "outputId": "6e19b765-21ea-4e25-8efc-2d400fe4cecd"
      },
      "execution_count": null,
      "outputs": [
        {
          "output_type": "stream",
          "name": "stdout",
          "text": [
            "[0 0 0 ... 0 0 0]\n"
          ]
        }
      ]
    },
    {
      "cell_type": "code",
      "source": [
        "y.shape"
      ],
      "metadata": {
        "colab": {
          "base_uri": "https://localhost:8080/"
        },
        "id": "yonF384xWClh",
        "outputId": "748e8b8a-f1ca-4784-e67f-9fc2c09671d9"
      },
      "execution_count": null,
      "outputs": [
        {
          "output_type": "execute_result",
          "data": {
            "text/plain": [
              "(17880,)"
            ]
          },
          "metadata": {},
          "execution_count": 104
        }
      ]
    },
    {
      "cell_type": "code",
      "source": [
        "#Converting textual data into numerical data or feature vectors\n"
      ],
      "metadata": {
        "id": "8cBegCPSWFjp"
      },
      "execution_count": null,
      "outputs": []
    },
    {
      "cell_type": "code",
      "source": [
        "vectorizer = TfidfVectorizer()"
      ],
      "metadata": {
        "id": "UONeroKdWgLI"
      },
      "execution_count": null,
      "outputs": []
    },
    {
      "cell_type": "code",
      "source": [
        "vectorizer.fit(x)"
      ],
      "metadata": {
        "colab": {
          "base_uri": "https://localhost:8080/",
          "height": 74
        },
        "id": "j8rHA3itWmkw",
        "outputId": "f09f5b04-ff88-4671-a833-1f8b57dd749e"
      },
      "execution_count": null,
      "outputs": [
        {
          "output_type": "execute_result",
          "data": {
            "text/plain": [
              "TfidfVectorizer()"
            ],
            "text/html": [
              "<style>#sk-container-id-1 {color: black;background-color: white;}#sk-container-id-1 pre{padding: 0;}#sk-container-id-1 div.sk-toggleable {background-color: white;}#sk-container-id-1 label.sk-toggleable__label {cursor: pointer;display: block;width: 100%;margin-bottom: 0;padding: 0.3em;box-sizing: border-box;text-align: center;}#sk-container-id-1 label.sk-toggleable__label-arrow:before {content: \"▸\";float: left;margin-right: 0.25em;color: #696969;}#sk-container-id-1 label.sk-toggleable__label-arrow:hover:before {color: black;}#sk-container-id-1 div.sk-estimator:hover label.sk-toggleable__label-arrow:before {color: black;}#sk-container-id-1 div.sk-toggleable__content {max-height: 0;max-width: 0;overflow: hidden;text-align: left;background-color: #f0f8ff;}#sk-container-id-1 div.sk-toggleable__content pre {margin: 0.2em;color: black;border-radius: 0.25em;background-color: #f0f8ff;}#sk-container-id-1 input.sk-toggleable__control:checked~div.sk-toggleable__content {max-height: 200px;max-width: 100%;overflow: auto;}#sk-container-id-1 input.sk-toggleable__control:checked~label.sk-toggleable__label-arrow:before {content: \"▾\";}#sk-container-id-1 div.sk-estimator input.sk-toggleable__control:checked~label.sk-toggleable__label {background-color: #d4ebff;}#sk-container-id-1 div.sk-label input.sk-toggleable__control:checked~label.sk-toggleable__label {background-color: #d4ebff;}#sk-container-id-1 input.sk-hidden--visually {border: 0;clip: rect(1px 1px 1px 1px);clip: rect(1px, 1px, 1px, 1px);height: 1px;margin: -1px;overflow: hidden;padding: 0;position: absolute;width: 1px;}#sk-container-id-1 div.sk-estimator {font-family: monospace;background-color: #f0f8ff;border: 1px dotted black;border-radius: 0.25em;box-sizing: border-box;margin-bottom: 0.5em;}#sk-container-id-1 div.sk-estimator:hover {background-color: #d4ebff;}#sk-container-id-1 div.sk-parallel-item::after {content: \"\";width: 100%;border-bottom: 1px solid gray;flex-grow: 1;}#sk-container-id-1 div.sk-label:hover label.sk-toggleable__label {background-color: #d4ebff;}#sk-container-id-1 div.sk-serial::before {content: \"\";position: absolute;border-left: 1px solid gray;box-sizing: border-box;top: 0;bottom: 0;left: 50%;z-index: 0;}#sk-container-id-1 div.sk-serial {display: flex;flex-direction: column;align-items: center;background-color: white;padding-right: 0.2em;padding-left: 0.2em;position: relative;}#sk-container-id-1 div.sk-item {position: relative;z-index: 1;}#sk-container-id-1 div.sk-parallel {display: flex;align-items: stretch;justify-content: center;background-color: white;position: relative;}#sk-container-id-1 div.sk-item::before, #sk-container-id-1 div.sk-parallel-item::before {content: \"\";position: absolute;border-left: 1px solid gray;box-sizing: border-box;top: 0;bottom: 0;left: 50%;z-index: -1;}#sk-container-id-1 div.sk-parallel-item {display: flex;flex-direction: column;z-index: 1;position: relative;background-color: white;}#sk-container-id-1 div.sk-parallel-item:first-child::after {align-self: flex-end;width: 50%;}#sk-container-id-1 div.sk-parallel-item:last-child::after {align-self: flex-start;width: 50%;}#sk-container-id-1 div.sk-parallel-item:only-child::after {width: 0;}#sk-container-id-1 div.sk-dashed-wrapped {border: 1px dashed gray;margin: 0 0.4em 0.5em 0.4em;box-sizing: border-box;padding-bottom: 0.4em;background-color: white;}#sk-container-id-1 div.sk-label label {font-family: monospace;font-weight: bold;display: inline-block;line-height: 1.2em;}#sk-container-id-1 div.sk-label-container {text-align: center;}#sk-container-id-1 div.sk-container {/* jupyter's `normalize.less` sets `[hidden] { display: none; }` but bootstrap.min.css set `[hidden] { display: none !important; }` so we also need the `!important` here to be able to override the default hidden behavior on the sphinx rendered scikit-learn.org. See: https://github.com/scikit-learn/scikit-learn/issues/21755 */display: inline-block !important;position: relative;}#sk-container-id-1 div.sk-text-repr-fallback {display: none;}</style><div id=\"sk-container-id-1\" class=\"sk-top-container\"><div class=\"sk-text-repr-fallback\"><pre>TfidfVectorizer()</pre><b>In a Jupyter environment, please rerun this cell to show the HTML representation or trust the notebook. <br />On GitHub, the HTML representation is unable to render, please try loading this page with nbviewer.org.</b></div><div class=\"sk-container\" hidden><div class=\"sk-item\"><div class=\"sk-estimator sk-toggleable\"><input class=\"sk-toggleable__control sk-hidden--visually\" id=\"sk-estimator-id-1\" type=\"checkbox\" checked><label for=\"sk-estimator-id-1\" class=\"sk-toggleable__label sk-toggleable__label-arrow\">TfidfVectorizer</label><div class=\"sk-toggleable__content\"><pre>TfidfVectorizer()</pre></div></div></div></div></div>"
            ]
          },
          "metadata": {},
          "execution_count": 107
        }
      ]
    },
    {
      "cell_type": "code",
      "source": [
        "x = vectorizer.transform(x)"
      ],
      "metadata": {
        "id": "3204xW7CW99X"
      },
      "execution_count": null,
      "outputs": []
    },
    {
      "cell_type": "code",
      "source": [
        "print(x)"
      ],
      "metadata": {
        "colab": {
          "base_uri": "https://localhost:8080/"
        },
        "id": "jaRGqeVHhMkH",
        "outputId": "d5c240e5-9286-4340-9862-9c6a4efa6123"
      },
      "execution_count": null,
      "outputs": [
        {
          "output_type": "stream",
          "name": "stdout",
          "text": [
            "  (0, 7796)\t1.0\n",
            "  (1, 2813)\t1.0\n",
            "  (2, 2059)\t1.0\n",
            "  (3, 124)\t1.0\n",
            "  (4, 1111)\t1.0\n",
            "  (5, 148)\t1.0\n",
            "  (6, 5528)\t1.0\n",
            "  (7, 7197)\t1.0\n",
            "  (8, 5847)\t1.0\n",
            "  (9, 2728)\t1.0\n",
            "  (10, 786)\t1.0\n",
            "  (11, 13303)\t1.0\n",
            "  (12, 696)\t1.0\n",
            "  (13, 6202)\t1.0\n",
            "  (14, 119)\t1.0\n",
            "  (15, 14196)\t1.0\n",
            "  (16, 5489)\t1.0\n",
            "  (17, 12755)\t1.0\n",
            "  (18, 14121)\t1.0\n",
            "  (19, 9474)\t1.0\n",
            "  (20, 7699)\t1.0\n",
            "  (21, 4924)\t1.0\n",
            "  (22, 4140)\t1.0\n",
            "  (23, 14082)\t1.0\n",
            "  (24, 2614)\t1.0\n",
            "  :\t:\n",
            "  (17855, 638)\t1.0\n",
            "  (17856, 14429)\t1.0\n",
            "  (17857, 1808)\t1.0\n",
            "  (17858, 9202)\t1.0\n",
            "  (17859, 5994)\t1.0\n",
            "  (17860, 12962)\t1.0\n",
            "  (17861, 6946)\t1.0\n",
            "  (17862, 1946)\t1.0\n",
            "  (17863, 6008)\t1.0\n",
            "  (17864, 8429)\t1.0\n",
            "  (17865, 9367)\t1.0\n",
            "  (17866, 9380)\t1.0\n",
            "  (17867, 350)\t1.0\n",
            "  (17868, 1985)\t1.0\n",
            "  (17869, 12971)\t1.0\n",
            "  (17870, 11553)\t1.0\n",
            "  (17871, 14273)\t1.0\n",
            "  (17872, 9651)\t1.0\n",
            "  (17873, 10346)\t1.0\n",
            "  (17874, 6759)\t1.0\n",
            "  (17875, 50)\t1.0\n",
            "  (17876, 9092)\t1.0\n",
            "  (17877, 9850)\t1.0\n",
            "  (17878, 5370)\t1.0\n",
            "  (17879, 14305)\t1.0\n"
          ]
        }
      ]
    },
    {
      "cell_type": "markdown",
      "source": [
        "Splitting the data into training and test data"
      ],
      "metadata": {
        "id": "33niWHc8hei9"
      }
    },
    {
      "cell_type": "code",
      "source": [
        "x_train,x_test,y_train,y_test = train_test_split(x,y,test_size = 0.2,stratify = y, random_state = 3)"
      ],
      "metadata": {
        "id": "_szw33-YhjR_"
      },
      "execution_count": null,
      "outputs": []
    },
    {
      "cell_type": "code",
      "source": [
        "print(x.shape,x_train.shape,x_test.shape)"
      ],
      "metadata": {
        "colab": {
          "base_uri": "https://localhost:8080/"
        },
        "id": "k22jsGpliBO-",
        "outputId": "5c83057a-e062-4743-f991-f4ccbfd1b0e0"
      },
      "execution_count": null,
      "outputs": [
        {
          "output_type": "stream",
          "name": "stdout",
          "text": [
            "(17880, 14692) (14304, 14692) (3576, 14692)\n"
          ]
        }
      ]
    },
    {
      "cell_type": "markdown",
      "source": [
        "Training the Model : Logistic Regression"
      ],
      "metadata": {
        "id": "E34Z40zGil5v"
      }
    },
    {
      "cell_type": "code",
      "source": [
        "model = LogisticRegression()"
      ],
      "metadata": {
        "id": "xPJEMOE9isp_"
      },
      "execution_count": null,
      "outputs": []
    },
    {
      "cell_type": "code",
      "source": [
        "model.fit(x_train,y_train)"
      ],
      "metadata": {
        "colab": {
          "base_uri": "https://localhost:8080/",
          "height": 74
        },
        "id": "uiL95VnMiwWE",
        "outputId": "56b9334e-948b-4b8f-9ebf-4d25f0563ce3"
      },
      "execution_count": null,
      "outputs": [
        {
          "output_type": "execute_result",
          "data": {
            "text/plain": [
              "LogisticRegression()"
            ],
            "text/html": [
              "<style>#sk-container-id-2 {color: black;background-color: white;}#sk-container-id-2 pre{padding: 0;}#sk-container-id-2 div.sk-toggleable {background-color: white;}#sk-container-id-2 label.sk-toggleable__label {cursor: pointer;display: block;width: 100%;margin-bottom: 0;padding: 0.3em;box-sizing: border-box;text-align: center;}#sk-container-id-2 label.sk-toggleable__label-arrow:before {content: \"▸\";float: left;margin-right: 0.25em;color: #696969;}#sk-container-id-2 label.sk-toggleable__label-arrow:hover:before {color: black;}#sk-container-id-2 div.sk-estimator:hover label.sk-toggleable__label-arrow:before {color: black;}#sk-container-id-2 div.sk-toggleable__content {max-height: 0;max-width: 0;overflow: hidden;text-align: left;background-color: #f0f8ff;}#sk-container-id-2 div.sk-toggleable__content pre {margin: 0.2em;color: black;border-radius: 0.25em;background-color: #f0f8ff;}#sk-container-id-2 input.sk-toggleable__control:checked~div.sk-toggleable__content {max-height: 200px;max-width: 100%;overflow: auto;}#sk-container-id-2 input.sk-toggleable__control:checked~label.sk-toggleable__label-arrow:before {content: \"▾\";}#sk-container-id-2 div.sk-estimator input.sk-toggleable__control:checked~label.sk-toggleable__label {background-color: #d4ebff;}#sk-container-id-2 div.sk-label input.sk-toggleable__control:checked~label.sk-toggleable__label {background-color: #d4ebff;}#sk-container-id-2 input.sk-hidden--visually {border: 0;clip: rect(1px 1px 1px 1px);clip: rect(1px, 1px, 1px, 1px);height: 1px;margin: -1px;overflow: hidden;padding: 0;position: absolute;width: 1px;}#sk-container-id-2 div.sk-estimator {font-family: monospace;background-color: #f0f8ff;border: 1px dotted black;border-radius: 0.25em;box-sizing: border-box;margin-bottom: 0.5em;}#sk-container-id-2 div.sk-estimator:hover {background-color: #d4ebff;}#sk-container-id-2 div.sk-parallel-item::after {content: \"\";width: 100%;border-bottom: 1px solid gray;flex-grow: 1;}#sk-container-id-2 div.sk-label:hover label.sk-toggleable__label {background-color: #d4ebff;}#sk-container-id-2 div.sk-serial::before {content: \"\";position: absolute;border-left: 1px solid gray;box-sizing: border-box;top: 0;bottom: 0;left: 50%;z-index: 0;}#sk-container-id-2 div.sk-serial {display: flex;flex-direction: column;align-items: center;background-color: white;padding-right: 0.2em;padding-left: 0.2em;position: relative;}#sk-container-id-2 div.sk-item {position: relative;z-index: 1;}#sk-container-id-2 div.sk-parallel {display: flex;align-items: stretch;justify-content: center;background-color: white;position: relative;}#sk-container-id-2 div.sk-item::before, #sk-container-id-2 div.sk-parallel-item::before {content: \"\";position: absolute;border-left: 1px solid gray;box-sizing: border-box;top: 0;bottom: 0;left: 50%;z-index: -1;}#sk-container-id-2 div.sk-parallel-item {display: flex;flex-direction: column;z-index: 1;position: relative;background-color: white;}#sk-container-id-2 div.sk-parallel-item:first-child::after {align-self: flex-end;width: 50%;}#sk-container-id-2 div.sk-parallel-item:last-child::after {align-self: flex-start;width: 50%;}#sk-container-id-2 div.sk-parallel-item:only-child::after {width: 0;}#sk-container-id-2 div.sk-dashed-wrapped {border: 1px dashed gray;margin: 0 0.4em 0.5em 0.4em;box-sizing: border-box;padding-bottom: 0.4em;background-color: white;}#sk-container-id-2 div.sk-label label {font-family: monospace;font-weight: bold;display: inline-block;line-height: 1.2em;}#sk-container-id-2 div.sk-label-container {text-align: center;}#sk-container-id-2 div.sk-container {/* jupyter's `normalize.less` sets `[hidden] { display: none; }` but bootstrap.min.css set `[hidden] { display: none !important; }` so we also need the `!important` here to be able to override the default hidden behavior on the sphinx rendered scikit-learn.org. See: https://github.com/scikit-learn/scikit-learn/issues/21755 */display: inline-block !important;position: relative;}#sk-container-id-2 div.sk-text-repr-fallback {display: none;}</style><div id=\"sk-container-id-2\" class=\"sk-top-container\"><div class=\"sk-text-repr-fallback\"><pre>LogisticRegression()</pre><b>In a Jupyter environment, please rerun this cell to show the HTML representation or trust the notebook. <br />On GitHub, the HTML representation is unable to render, please try loading this page with nbviewer.org.</b></div><div class=\"sk-container\" hidden><div class=\"sk-item\"><div class=\"sk-estimator sk-toggleable\"><input class=\"sk-toggleable__control sk-hidden--visually\" id=\"sk-estimator-id-2\" type=\"checkbox\" checked><label for=\"sk-estimator-id-2\" class=\"sk-toggleable__label sk-toggleable__label-arrow\">LogisticRegression</label><div class=\"sk-toggleable__content\"><pre>LogisticRegression()</pre></div></div></div></div></div>"
            ]
          },
          "metadata": {},
          "execution_count": 118
        }
      ]
    },
    {
      "cell_type": "markdown",
      "source": [
        "Evaluation"
      ],
      "metadata": {
        "id": "ocWQhTqVjzKl"
      }
    },
    {
      "cell_type": "markdown",
      "source": [
        "Accuracy Score"
      ],
      "metadata": {
        "id": "Pala9tYzkngN"
      }
    },
    {
      "cell_type": "code",
      "source": [
        "#Printing the accuracy score of Training data"
      ],
      "metadata": {
        "id": "l342WAOUj0n0"
      },
      "execution_count": null,
      "outputs": []
    },
    {
      "cell_type": "code",
      "source": [
        "x_train_prediction = model.predict(x_train)\n",
        "Training_data_accuracy = accuracy_score(x_train_prediction,y_train)"
      ],
      "metadata": {
        "id": "5QpOK8_xkvZR"
      },
      "execution_count": null,
      "outputs": []
    },
    {
      "cell_type": "code",
      "source": [
        "print('The accuracy score of training data is :',Training_data_accuracy)"
      ],
      "metadata": {
        "colab": {
          "base_uri": "https://localhost:8080/"
        },
        "id": "K0PQWwCplGov",
        "outputId": "70386270-0e56-43d8-bbff-d90c6e03d39f"
      },
      "execution_count": null,
      "outputs": [
        {
          "output_type": "stream",
          "name": "stdout",
          "text": [
            "The accuracy score of training data is : 0.9577041387024608\n"
          ]
        }
      ]
    },
    {
      "cell_type": "code",
      "source": [
        "#Printing the accuracy score of testing data\n",
        "x_test_prediction = model.predict(x_test)\n",
        "Test_data_accuracy = accuracy_score(x_test_prediction,y_test)"
      ],
      "metadata": {
        "id": "emsK2BrSlQAg"
      },
      "execution_count": null,
      "outputs": []
    },
    {
      "cell_type": "code",
      "source": [
        "print('The accuracy score of test data is:',Test_data_accuracy)"
      ],
      "metadata": {
        "colab": {
          "base_uri": "https://localhost:8080/"
        },
        "id": "PKxHAwszlpiq",
        "outputId": "57d698f4-f015-49ec-98df-30dfe87550fb"
      },
      "execution_count": null,
      "outputs": [
        {
          "output_type": "stream",
          "name": "stdout",
          "text": [
            "The accuracy score of test data is: 0.956096196868009\n"
          ]
        }
      ]
    },
    {
      "cell_type": "markdown",
      "source": [
        "Prediction System"
      ],
      "metadata": {
        "id": "BmrKdSjml1_t"
      }
    },
    {
      "cell_type": "code",
      "source": [
        "x_input = x_test[1784]\n",
        "\n",
        "prediction = model.predict(x_input)\n",
        "print(prediction)\n",
        "if [prediction[0]==0]:\n",
        "  print(\"The job posting is Real\")\n",
        "else:\n",
        "  print('The job posting is Fake')"
      ],
      "metadata": {
        "colab": {
          "base_uri": "https://localhost:8080/"
        },
        "id": "G_quSfnGm4HO",
        "outputId": "2c8b1f2f-1b58-4694-c028-fa2ac51d4b37"
      },
      "execution_count": null,
      "outputs": [
        {
          "output_type": "stream",
          "name": "stdout",
          "text": [
            "[0]\n",
            "The job posting is Real\n"
          ]
        }
      ]
    },
    {
      "cell_type": "code",
      "source": [],
      "metadata": {
        "id": "rwYCqKBOnURl"
      },
      "execution_count": null,
      "outputs": []
    },
    {
      "cell_type": "code",
      "source": [],
      "metadata": {
        "id": "fCJLW1cGoBAv"
      },
      "execution_count": null,
      "outputs": []
    }
  ]
}